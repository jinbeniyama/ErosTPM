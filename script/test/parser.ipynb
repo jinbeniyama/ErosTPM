{
 "cells": [
  {
   "cell_type": "code",
   "execution_count": 88,
   "metadata": {},
   "outputs": [
    {
     "name": "stdout",
     "output_type": "stream",
     "text": [
      "440\n"
     ]
    }
   ],
   "source": [
    "import glob\n",
    "import re\n",
    "import pandas as pd\n",
    "\n",
    "list=glob.glob('akari_ukirt1998_ukirt2002_Lim2005_3_SST_six_20250110/20250110/tpmout*')\n",
    "print(len(list))"
   ]
  },
  {
   "cell_type": "code",
   "execution_count": 90,
   "metadata": {},
   "outputs": [],
   "source": [
    "def parseFile(fname, outfile):\n",
    "    with open(fname, 'r') as file:\n",
    "        data = file.read()\n",
    "\n",
    "    ### extract TPM simualtion parameters \n",
    "    r0=data.find('r>')+2\n",
    "    r1=data.find('\\n',r0)\n",
    "    paramList=re.findall(r\"[-+]?(?:\\d*\\.*\\d+)\", data[r0:r1])\n",
    "    #print(paramList)\n",
    "    gamma = paramList[0]\n",
    "    tBar = paramList[1]\n",
    "    gammaC = paramList[2]\n",
    "    gammaRho = paramList[3]\n",
    "    bondA = paramList[4]\n",
    "\n",
    "    ### extract TPM simualtion fluxes \n",
    "    r0=0\n",
    "    rMax = len(data)\n",
    "\n",
    "    while (r0<rMax):\n",
    "        r0=data.find('f>',r0)\n",
    "        r1=data.find('\\n',r0)\n",
    "        #print(r0, r1, rMax)\n",
    "        if ((r1<0) | (r0<0)):\n",
    "            break;\n",
    "        if ((r0>0) & (r1>0)):\n",
    "            paramList=re.findall(r\"[-+]?(?:\\d*\\.*\\d+)\", data[r0:r1])\n",
    "        #print(paramList)\n",
    "            jd =  paramList[1]\n",
    "            wave = paramList[3]\n",
    "            tpmFlux = paramList[6]\n",
    "            print(gamma, tBar, gammaC, gammaRho, bondA, jd, wave, tpmFlux, sep=\",\", file=outfile)\n",
    "            r0=r1+1\n"
   ]
  },
  {
   "cell_type": "code",
   "execution_count": 92,
   "metadata": {},
   "outputs": [],
   "source": [
    "outf=open('lut20250110.csv', \"w\")\n",
    "for fn in list:\n",
    "    #print(fn)\n",
    "    try:\n",
    "        parseFile(fn,outf)\n",
    "    except:\n",
    "        print(\"error on \", fn)  \n",
    "outf.close()"
   ]
  }
 ],
 "metadata": {
  "kernelspec": {
   "display_name": "cv",
   "language": "python",
   "name": "python3"
  },
  "language_info": {
   "codemirror_mode": {
    "name": "ipython",
    "version": 3
   },
   "file_extension": ".py",
   "mimetype": "text/x-python",
   "name": "python",
   "nbconvert_exporter": "python",
   "pygments_lexer": "ipython3",
   "version": "3.8.6"
  }
 },
 "nbformat": 4,
 "nbformat_minor": 2
}
